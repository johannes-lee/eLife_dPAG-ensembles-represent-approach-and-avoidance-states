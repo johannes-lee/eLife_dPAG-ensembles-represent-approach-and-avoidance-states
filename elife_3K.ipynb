{
 "cells": [
  {
   "cell_type": "code",
   "execution_count": 1,
   "metadata": {},
   "outputs": [
    {
     "name": "stdout",
     "output_type": "stream",
     "text": [
      "mousenums:  ['230', '355', '358', '362', '673', '674', '816', '825']\n"
     ]
    }
   ],
   "source": [
    "import os\n",
    "os.chdir('../')\n",
    "from helpers import *"
   ]
  },
  {
   "cell_type": "code",
   "execution_count": 2,
   "metadata": {},
   "outputs": [],
   "source": [
    "fourvar = sio.loadmat('Weights_Rat1_4vars.mat')"
   ]
  },
  {
   "cell_type": "code",
   "execution_count": 3,
   "metadata": {},
   "outputs": [],
   "source": [
    "mousenums = ['355', '362', '673', '674', '816', '825']"
   ]
  },
  {
   "cell_type": "code",
   "execution_count": 4,
   "metadata": {},
   "outputs": [
    {
     "name": "stdout",
     "output_type": "stream",
     "text": [
      "355 (30, 4) 30\n",
      "362 (37, 4) 37\n",
      "673 (51, 4) 51\n",
      "674 (39, 4) 39\n",
      "816 (78, 4) 78\n",
      "825 (65, 4) 65\n"
     ]
    }
   ],
   "source": [
    "for mouse in mousenums:\n",
    "    calc1, calc2, inds = getcalcs(foldnames, mouse, 'epm', 'rat1', returnInds=True, denoise=False)\n",
    "    print(mouse, fourvar[mouse].shape, np.sum(inds[0]))"
   ]
  },
  {
   "cell_type": "code",
   "execution_count": 5,
   "metadata": {},
   "outputs": [],
   "source": [
    "fourvarweights = np.concatenate([fourvar[mouse] for mouse in mousenums])"
   ]
  },
  {
   "cell_type": "code",
   "execution_count": 6,
   "metadata": {},
   "outputs": [
    {
     "data": {
      "text/plain": [
       "(300, 4)"
      ]
     },
     "execution_count": 6,
     "metadata": {},
     "output_type": "execute_result"
    }
   ],
   "source": [
    "fourvarweights.shape"
   ]
  },
  {
   "cell_type": "code",
   "execution_count": null,
   "metadata": {},
   "outputs": [],
   "source": []
  },
  {
   "cell_type": "code",
   "execution_count": 7,
   "metadata": {},
   "outputs": [],
   "source": [
    "ctypes = []\n",
    "armscores = []\n",
    "for mouse in mousenums:\n",
    "    track, neur, behav = getdicts(foldnames, mouse, 'epm')\n",
    "    calc1, calc2, inds = getcalcs(foldnames, mouse, 'epm', 'rat1', returnInds=True, denoise=False)\n",
    "    for k in range(calc1.shape[1]):\n",
    "        ctype = celltypebehav(calc1[:, k], behav)\n",
    "        ctypes.append(ctype)\n",
    "        armscores.append(armscorebehav(calc1[:, k], behav))\n",
    "ctypes = np.array(ctypes)"
   ]
  },
  {
   "cell_type": "code",
   "execution_count": 8,
   "metadata": {},
   "outputs": [
    {
     "name": "stdout",
     "output_type": "stream",
     "text": [
      "62\n",
      "155\n",
      "83\n"
     ]
    }
   ],
   "source": [
    "for typ in ['o', 'n', 'c']:\n",
    "    print(np.sum(ctypes == typ))"
   ]
  },
  {
   "cell_type": "code",
   "execution_count": 4,
   "metadata": {},
   "outputs": [],
   "source": [
    "variables = ['approach', 'escape', 'freeze', 'stretch']"
   ]
  },
  {
   "cell_type": "code",
   "execution_count": 11,
   "metadata": {},
   "outputs": [
    {
     "name": "stdout",
     "output_type": "stream",
     "text": [
      "approach RanksumsResult(statistic=4.172341070447826, pvalue=3.0148588447371044e-05)\n",
      "freeze RanksumsResult(statistic=-3.7167406087322585, pvalue=0.000201809447589106)\n"
     ]
    },
    {
     "data": {
      "text/plain": [
       "Text(0, 0.5, 'mean GLM weight (rat)')"
      ]
     },
     "execution_count": 11,
     "metadata": {},
     "output_type": "execute_result"
    },
    {
     "data": {
      "image/png": "[encoded data removed]",
      "text/plain": [
       "<Figure size 360x720 with 2 Axes>"
      ]
     },
     "metadata": {
      "needs_background": "light"
     },
     "output_type": "display_data"
    }
   ],
   "source": [
    "plt.figure(figsize=(5, 10))\n",
    "plt.subplot(2, 1, 1)\n",
    "k = 0\n",
    "for i, typ in enumerate(['o', 'n', 'c']):\n",
    "    plt.bar(i, np.mean(fourvarweights[ctypes==typ, k]))\n",
    "plt.legend(['open', 'neither', 'closed'])\n",
    "for i, typ in enumerate(['o', 'n', 'c']):\n",
    "    plt.errorbar(i, np.mean(fourvarweights[ctypes==typ, k]), sem(fourvarweights[ctypes==typ, k]), \n",
    "                 fmt='k_', ms=0, capsize=10)\n",
    "plt.ylim(-0.02, 0.08)\n",
    "plt.yticks([-0.02, 0, 0.08])\n",
    "plt.xticks([])\n",
    "print('approach', ranksums(fourvarweights[ctypes=='o', k], fourvarweights[ctypes=='c', k]))\n",
    "plt.title('approach')\n",
    "plt.ylabel('mean GLM weight (rat)')\n",
    "\n",
    "plt.subplot(2, 1, 2)\n",
    "k = 2\n",
    "for i, typ in enumerate(['o', 'n', 'c']):\n",
    "    plt.bar(i, np.mean(fourvarweights[ctypes==typ, k]))\n",
    "plt.legend(['open', 'neither', 'closed'])\n",
    "for i, typ in enumerate(['o', 'n', 'c']):\n",
    "    plt.errorbar(i, np.mean(fourvarweights[ctypes==typ, k]), sem(fourvarweights[ctypes==typ, k]), \n",
    "                 fmt='k_', ms=0, capsize=10)\n",
    "plt.ylim(-0.06, 0.04)\n",
    "plt.yticks([-0.06, 0, 0.04])\n",
    "plt.xticks([])\n",
    "print('freeze', ranksums(fourvarweights[ctypes=='o', k], fourvarweights[ctypes=='c', k]))\n",
    "plt.title('freeze')\n",
    "plt.ylabel('mean GLM weight (rat)')\n",
    "\n",
    "plt.savefig('./elife_figs/3K.svg')"
   ]
  },
  {
   "cell_type": "code",
   "execution_count": null,
   "metadata": {},
   "outputs": [],
   "source": []
  }
 ],
 "metadata": {
  "kernelspec": {
   "display_name": "Python 3",
   "language": "python",
   "name": "python3"
  },
  "language_info": {
   "codemirror_mode": {
    "name": "ipython",
    "version": 3
   },
   "file_extension": ".py",
   "mimetype": "text/x-python",
   "name": "python",
   "nbconvert_exporter": "python",
   "pygments_lexer": "ipython3",
   "version": "3.7.4"
  }
 },
 "nbformat": 4,
 "nbformat_minor": 4
}
