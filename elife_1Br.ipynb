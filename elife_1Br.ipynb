{
 "cells": [
  {
   "cell_type": "code",
   "execution_count": 1,
   "metadata": {},
   "outputs": [
    {
     "name": "stdout",
     "output_type": "stream",
     "text": [
      "mousenums:  ['230', '355', '358', '362', '673', '674', '816', '825']\n"
     ]
    }
   ],
   "source": [
    "import os\n",
    "os.chdir('../')\n",
    "from helpers import *"
   ]
  },
  {
   "cell_type": "code",
   "execution_count": 2,
   "metadata": {},
   "outputs": [],
   "source": [
    "timeO = []\n",
    "timeC = []\n",
    "for mouse in mousenums:\n",
    "    track, neur, behav = getdicts(foldnames, mouse, 'epm')\n",
    "    T = track['mouse_positionMS'].shape[0]\n",
    "    TO = behav['o1Ind'].size + behav['o2Ind'].size\n",
    "    TC = behav['c1Ind'].size + behav['c2Ind'].size\n",
    "    timeO.append(TO/T)\n",
    "    timeC.append(TC/T)\n",
    "timeO = np.array(timeO)*100\n",
    "timeC = np.array(timeC)*100"
   ]
  },
  {
   "cell_type": "code",
   "execution_count": 3,
   "metadata": {},
   "outputs": [
    {
     "data": {
      "image/png": "[encoded data removed]",
      "text/plain": [
       "<Figure size 432x288 with 1 Axes>"
      ]
     },
     "metadata": {
      "needs_background": "light"
     },
     "output_type": "display_data"
    }
   ],
   "source": [
    "plt.bar(0, np.mean(timeO))\n",
    "plt.bar(1, np.mean(timeC))\n",
    "\n",
    "plt.ylim(0, 100)\n",
    "plt.yticks([0, 40, 80])\n",
    "plt.xticks([])\n",
    "plt.legend(['open', 'closed'])\n",
    "plt.ylabel('% time on arms')\n",
    "plt.plot([0, 1], [80, 80], 'k')\n",
    "plt.text(0.5, 82, '***', ha='center')\n",
    "\n",
    "plt.errorbar(0, np.mean(timeO), sem(timeO), fmt='k_', ms=0, capsize=10)\n",
    "plt.errorbar(1, np.mean(timeC), sem(timeC), fmt='k_', ms=0, capsize=10)\n",
    "plt.title('1B-right')\n",
    "plt.savefig('./elife_figs/1B_right.svg')"
   ]
  },
  {
   "cell_type": "code",
   "execution_count": null,
   "metadata": {},
   "outputs": [],
   "source": []
  },
  {
   "cell_type": "code",
   "execution_count": 4,
   "metadata": {},
   "outputs": [
    {
     "data": {
      "text/plain": [
       "21.92665917137156"
      ]
     },
     "execution_count": 4,
     "metadata": {},
     "output_type": "execute_result"
    }
   ],
   "source": [
    "np.mean(timeO)"
   ]
  },
  {
   "cell_type": "code",
   "execution_count": 5,
   "metadata": {},
   "outputs": [
    {
     "data": {
      "text/plain": [
       "3.4784817849768563"
      ]
     },
     "execution_count": 5,
     "metadata": {},
     "output_type": "execute_result"
    }
   ],
   "source": [
    "sem(timeO)"
   ]
  },
  {
   "cell_type": "code",
   "execution_count": 6,
   "metadata": {},
   "outputs": [
    {
     "data": {
      "text/plain": [
       "66.93171973959502"
      ]
     },
     "execution_count": 6,
     "metadata": {},
     "output_type": "execute_result"
    }
   ],
   "source": [
    "np.mean(timeC)"
   ]
  },
  {
   "cell_type": "code",
   "execution_count": 7,
   "metadata": {},
   "outputs": [
    {
     "data": {
      "text/plain": [
       "4.2805908995636415"
      ]
     },
     "execution_count": 7,
     "metadata": {},
     "output_type": "execute_result"
    }
   ],
   "source": [
    "sem(timeC)"
   ]
  },
  {
   "cell_type": "code",
   "execution_count": 8,
   "metadata": {},
   "outputs": [
    {
     "data": {
      "text/plain": [
       "array([16.62799691, 15.98451327, 12.10490921, 36.30304377, 36.78350515,\n",
       "       25.84294587, 16.87014428, 14.8962149 ])"
      ]
     },
     "execution_count": 8,
     "metadata": {},
     "output_type": "execute_result"
    }
   ],
   "source": [
    "timeO"
   ]
  },
  {
   "cell_type": "code",
   "execution_count": 9,
   "metadata": {
    "scrolled": true
   },
   "outputs": [
    {
     "data": {
      "text/plain": [
       "array([72.41188819, 76.25      , 78.42412015, 50.29993335, 46.65979381,\n",
       "       64.61845608, 72.79689234, 73.99267399])"
      ]
     },
     "execution_count": 9,
     "metadata": {},
     "output_type": "execute_result"
    }
   ],
   "source": [
    "timeC"
   ]
  },
  {
   "cell_type": "code",
   "execution_count": 10,
   "metadata": {},
   "outputs": [
    {
     "data": {
      "text/plain": [
       "RanksumsResult(statistic=-3.3606722016672235, pvalue=0.0007775304469403846)"
      ]
     },
     "execution_count": 10,
     "metadata": {},
     "output_type": "execute_result"
    }
   ],
   "source": [
    "ranksums(timeO, timeC)"
   ]
  },
  {
   "cell_type": "code",
   "execution_count": null,
   "metadata": {},
   "outputs": [],
   "source": []
  }
 ],
 "metadata": {
  "kernelspec": {
   "display_name": "Python 3",
   "language": "python",
   "name": "python3"
  },
  "language_info": {
   "codemirror_mode": {
    "name": "ipython",
    "version": 3
   },
   "file_extension": ".py",
   "mimetype": "text/x-python",
   "name": "python",
   "nbconvert_exporter": "python",
   "pygments_lexer": "ipython3",
   "version": "3.7.4"
  }
 },
 "nbformat": 4,
 "nbformat_minor": 4
}
