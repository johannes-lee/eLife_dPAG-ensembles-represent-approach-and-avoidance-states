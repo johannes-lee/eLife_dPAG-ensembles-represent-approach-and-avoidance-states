{
 "cells": [
  {
   "cell_type": "code",
   "execution_count": 1,
   "metadata": {},
   "outputs": [
    {
     "name": "stdout",
     "output_type": "stream",
     "text": [
      "mousenums:  ['230', '355', '358', '362', '673', '674', '816', '825']\n"
     ]
    }
   ],
   "source": [
    "import os\n",
    "os.chdir('../')\n",
    "from helpers import *"
   ]
  },
  {
   "cell_type": "code",
   "execution_count": 2,
   "metadata": {},
   "outputs": [
    {
     "name": "stdout",
     "output_type": "stream",
     "text": [
      "230 EPM:  111 Rat:  73 coregistered:  17\n",
      "355 EPM:  104 Rat:  86 coregistered:  30\n",
      "358 EPM:  123 Rat:  0 coregistered:  0\n",
      "362 EPM:  117 Rat:  114 coregistered:  37\n",
      "673 EPM:  102 Rat:  94 coregistered:  51\n",
      "674 EPM:  61 Rat:  107 coregistered:  39\n",
      "816 EPM:  120 Rat:  122 coregistered:  78\n",
      "825 EPM:  119 Rat:  117 coregistered:  65\n"
     ]
    }
   ],
   "source": [
    "N_EPM = []\n",
    "N_Rat = []\n",
    "N_coreg = []\n",
    "for mouse in mousenums:\n",
    "    track1, neur1, behav1 = getdicts(foldnames, mouse, 'epm')\n",
    "    track2, neur2, behav2 = getdicts(foldnames, mouse, 'rat1')\n",
    "    \n",
    "    calc1 = getcalc(foldnames, mouse, 'epm')\n",
    "    N_EPM.append(calc1.shape[1])\n",
    "    if mouse != '358': #skipped due to issues with rat1\n",
    "        calc1c, calc2c = getcalcs(foldnames, mouse, 'epm', 'rat1')\n",
    "        calc2 = getcalc(foldnames, mouse, 'rat1')\n",
    "        N_Rat.append(calc2.shape[1])\n",
    "        N_coreg.append(calc2c.shape[1])\n",
    "    else:\n",
    "        calc2 = np.zeros((0, 0))\n",
    "        calc2c = np.zeros((0, 0))\n",
    "    \n",
    "    print(mouse, 'EPM: ', calc1.shape[1], 'Rat: ', calc2.shape[1], 'coregistered: ', calc2c.shape[1])"
   ]
  },
  {
   "cell_type": "code",
   "execution_count": 3,
   "metadata": {},
   "outputs": [
    {
     "name": "stdout",
     "output_type": "stream",
     "text": [
      "EPM: 107.1 +/- 18.8 analyzed cells\n"
     ]
    }
   ],
   "source": [
    "print('EPM: {:.1f} +/- {:.1f} analyzed cells'.format(np.mean(N_EPM), np.std(N_EPM)))"
   ]
  },
  {
   "cell_type": "code",
   "execution_count": 4,
   "metadata": {},
   "outputs": [
    {
     "name": "stdout",
     "output_type": "stream",
     "text": [
      "Rat: 101.9 +/- 16.7 analyzed cells\n"
     ]
    }
   ],
   "source": [
    "print('Rat: {:.1f} +/- {:.1f} analyzed cells'.format(np.mean(N_Rat), np.std(N_Rat)))"
   ]
  },
  {
   "cell_type": "code",
   "execution_count": 5,
   "metadata": {},
   "outputs": [
    {
     "name": "stdout",
     "output_type": "stream",
     "text": [
      "45.3 +/- 19.4 analyzed coregistered cells\n"
     ]
    }
   ],
   "source": [
    "print('{:.1f} +/- {:.1f} analyzed coregistered cells'.format(np.mean(N_coreg), np.std(N_coreg)))"
   ]
  },
  {
   "cell_type": "code",
   "execution_count": 6,
   "metadata": {},
   "outputs": [
    {
     "name": "stdout",
     "output_type": "stream",
     "text": [
      "44.2% +/- 17.7 of EPM cells coregistered on average\n"
     ]
    }
   ],
   "source": [
    "print('{:.1f}% +/- {:.1f} of EPM cells coregistered on average'.format(\n",
    "    100*np.mean(np.array(N_coreg)/np.array(N_EPM)[[0, 1, 3, 4, 5, 6, 7]]),\n",
    "     100*np.std(np.array(N_coreg)/np.array(N_EPM)[[0, 1, 3, 4, 5, 6, 7]])))"
   ]
  },
  {
   "cell_type": "code",
   "execution_count": 7,
   "metadata": {},
   "outputs": [
    {
     "name": "stdout",
     "output_type": "stream",
     "text": [
      "43.0% +/- 13.8 of Rat cells coregistered on average\n"
     ]
    }
   ],
   "source": [
    "print('{:.1f}% +/- {:.1f} of Rat cells coregistered on average'.format(\n",
    "    100*np.mean(np.array(N_coreg)/np.array(N_Rat)),\n",
    "     100*np.std(np.array(N_coreg)/np.array(N_Rat))))"
   ]
  },
  {
   "cell_type": "code",
   "execution_count": null,
   "metadata": {},
   "outputs": [],
   "source": []
  },
  {
   "cell_type": "code",
   "execution_count": 9,
   "metadata": {},
   "outputs": [],
   "source": [
    "percent_coreg = np.concatenate([np.array(N_coreg)/np.array(N_EPM)[[0, 1, 3, 4, 5, 6, 7]],\n",
    "                np.array(N_coreg)/np.array(N_Rat)])"
   ]
  },
  {
   "cell_type": "code",
   "execution_count": 12,
   "metadata": {},
   "outputs": [
    {
     "name": "stdout",
     "output_type": "stream",
     "text": [
      "43.6% +/- 15.9% of cells coregistered over all (coregistered) sessions\n"
     ]
    }
   ],
   "source": [
    "print('{:.1f}% +/- {:.1f}% of cells coregistered over all (coregistered) sessions'.format(\n",
    "    100*np.mean(percent_coreg), 100*np.std(percent_coreg)))"
   ]
  },
  {
   "cell_type": "code",
   "execution_count": null,
   "metadata": {},
   "outputs": [],
   "source": []
  }
 ],
 "metadata": {
  "kernelspec": {
   "display_name": "Python 3",
   "language": "python",
   "name": "python3"
  },
  "language_info": {
   "codemirror_mode": {
    "name": "ipython",
    "version": 3
   },
   "file_extension": ".py",
   "mimetype": "text/x-python",
   "name": "python",
   "nbconvert_exporter": "python",
   "pygments_lexer": "ipython3",
   "version": "3.7.4"
  }
 },
 "nbformat": 4,
 "nbformat_minor": 4
}
